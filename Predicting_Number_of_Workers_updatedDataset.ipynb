{
 "cells": [
  {
   "cell_type": "code",
   "execution_count": 1,
   "metadata": {
    "collapsed": true
   },
   "outputs": [],
   "source": [
    "from __future__ import print_function\n",
    "from __future__ import division\n",
    "\n",
    "%matplotlib inline\n",
    "\n",
    "import pandas as pd\n",
    "import numpy as np\n",
    "import seaborn as sns\n",
    "import statsmodels.api as sm\n",
    "import xgboost as xgb\n",
    "\n",
    "from sklearn import tree\n",
    "from sklearn.ensemble import RandomForestRegressor\n",
    "from matplotlib import pyplot as plt\n",
    "from sklearn.model_selection import train_test_split\n",
    "from sklearn.ensemble import GradientBoostingClassifier, RandomForestClassifier\n",
    "from sklearn.model_selection import KFold\n",
    "from sklearn.metrics import mean_squared_error\n",
    "\n",
    "# just for the sake of this blog post!\n",
    "from warnings import filterwarnings\n",
    "filterwarnings('ignore')"
   ]
  },
  {
   "cell_type": "code",
   "execution_count": 2,
   "metadata": {
    "collapsed": true
   },
   "outputs": [],
   "source": [
    "df =pd.read_csv('./feature_set.csv')"
   ]
  },
  {
   "cell_type": "code",
   "execution_count": 3,
   "metadata": {},
   "outputs": [
    {
     "data": {
      "text/html": [
       "<div>\n",
       "<style scoped>\n",
       "    .dataframe tbody tr th:only-of-type {\n",
       "        vertical-align: middle;\n",
       "    }\n",
       "\n",
       "    .dataframe tbody tr th {\n",
       "        vertical-align: top;\n",
       "    }\n",
       "\n",
       "    .dataframe thead th {\n",
       "        text-align: right;\n",
       "    }\n",
       "</style>\n",
       "<table border=\"1\" class=\"dataframe\">\n",
       "  <thead>\n",
       "    <tr style=\"text-align: right;\">\n",
       "      <th></th>\n",
       "      <th>Number_of_Workers</th>\n",
       "      <th>Number_of_partial_siddhi_apps</th>\n",
       "      <th>DataRate</th>\n",
       "      <th>No of String Attributes in input Stream</th>\n",
       "      <th>No of float Attributes in input Stream</th>\n",
       "      <th>No of double Attributes in input Stream</th>\n",
       "      <th>No of int Attributes in input Stream</th>\n",
       "      <th>No of long Attributes in input Stream</th>\n",
       "      <th>ExternalTmeWindowSize(Sec)</th>\n",
       "      <th>ExternalTimeBatch</th>\n",
       "      <th>...</th>\n",
       "      <th>Aggregation function</th>\n",
       "      <th>In built functions</th>\n",
       "      <th>No of Select Operations</th>\n",
       "      <th>No of Insert Operators</th>\n",
       "      <th>No of From operators</th>\n",
       "      <th>Inner Streams</th>\n",
       "      <th>No of string extensions</th>\n",
       "      <th>No of email processor extensions</th>\n",
       "      <th>No of filter conditions</th>\n",
       "      <th>Throughput</th>\n",
       "    </tr>\n",
       "  </thead>\n",
       "  <tbody>\n",
       "    <tr>\n",
       "      <th>0</th>\n",
       "      <td>3</td>\n",
       "      <td>3</td>\n",
       "      <td>3</td>\n",
       "      <td>4</td>\n",
       "      <td>7</td>\n",
       "      <td>2</td>\n",
       "      <td>1</td>\n",
       "      <td>2</td>\n",
       "      <td>30</td>\n",
       "      <td>0</td>\n",
       "      <td>...</td>\n",
       "      <td>3</td>\n",
       "      <td>3</td>\n",
       "      <td>4</td>\n",
       "      <td>4</td>\n",
       "      <td>4</td>\n",
       "      <td>2</td>\n",
       "      <td>0</td>\n",
       "      <td>0</td>\n",
       "      <td>1</td>\n",
       "      <td>209.105079</td>\n",
       "    </tr>\n",
       "    <tr>\n",
       "      <th>1</th>\n",
       "      <td>3</td>\n",
       "      <td>6</td>\n",
       "      <td>3</td>\n",
       "      <td>4</td>\n",
       "      <td>7</td>\n",
       "      <td>2</td>\n",
       "      <td>1</td>\n",
       "      <td>2</td>\n",
       "      <td>30</td>\n",
       "      <td>0</td>\n",
       "      <td>...</td>\n",
       "      <td>3</td>\n",
       "      <td>3</td>\n",
       "      <td>4</td>\n",
       "      <td>4</td>\n",
       "      <td>4</td>\n",
       "      <td>2</td>\n",
       "      <td>0</td>\n",
       "      <td>0</td>\n",
       "      <td>1</td>\n",
       "      <td>403.098494</td>\n",
       "    </tr>\n",
       "    <tr>\n",
       "      <th>2</th>\n",
       "      <td>3</td>\n",
       "      <td>9</td>\n",
       "      <td>3</td>\n",
       "      <td>4</td>\n",
       "      <td>7</td>\n",
       "      <td>2</td>\n",
       "      <td>1</td>\n",
       "      <td>2</td>\n",
       "      <td>30</td>\n",
       "      <td>0</td>\n",
       "      <td>...</td>\n",
       "      <td>3</td>\n",
       "      <td>3</td>\n",
       "      <td>4</td>\n",
       "      <td>4</td>\n",
       "      <td>4</td>\n",
       "      <td>2</td>\n",
       "      <td>0</td>\n",
       "      <td>0</td>\n",
       "      <td>1</td>\n",
       "      <td>515.373114</td>\n",
       "    </tr>\n",
       "    <tr>\n",
       "      <th>3</th>\n",
       "      <td>3</td>\n",
       "      <td>18</td>\n",
       "      <td>3</td>\n",
       "      <td>4</td>\n",
       "      <td>7</td>\n",
       "      <td>2</td>\n",
       "      <td>1</td>\n",
       "      <td>2</td>\n",
       "      <td>30</td>\n",
       "      <td>0</td>\n",
       "      <td>...</td>\n",
       "      <td>3</td>\n",
       "      <td>3</td>\n",
       "      <td>4</td>\n",
       "      <td>4</td>\n",
       "      <td>4</td>\n",
       "      <td>2</td>\n",
       "      <td>0</td>\n",
       "      <td>0</td>\n",
       "      <td>1</td>\n",
       "      <td>717.240405</td>\n",
       "    </tr>\n",
       "    <tr>\n",
       "      <th>4</th>\n",
       "      <td>4</td>\n",
       "      <td>4</td>\n",
       "      <td>3</td>\n",
       "      <td>4</td>\n",
       "      <td>7</td>\n",
       "      <td>2</td>\n",
       "      <td>1</td>\n",
       "      <td>2</td>\n",
       "      <td>30</td>\n",
       "      <td>0</td>\n",
       "      <td>...</td>\n",
       "      <td>3</td>\n",
       "      <td>3</td>\n",
       "      <td>4</td>\n",
       "      <td>4</td>\n",
       "      <td>4</td>\n",
       "      <td>2</td>\n",
       "      <td>0</td>\n",
       "      <td>0</td>\n",
       "      <td>1</td>\n",
       "      <td>245.984533</td>\n",
       "    </tr>\n",
       "  </tbody>\n",
       "</table>\n",
       "<p>5 rows × 22 columns</p>\n",
       "</div>"
      ],
      "text/plain": [
       "   Number_of_Workers  Number_of_partial_siddhi_apps  DataRate  \\\n",
       "0                  3                              3         3   \n",
       "1                  3                              6         3   \n",
       "2                  3                              9         3   \n",
       "3                  3                             18         3   \n",
       "4                  4                              4         3   \n",
       "\n",
       "   No of String Attributes in input Stream  \\\n",
       "0                                        4   \n",
       "1                                        4   \n",
       "2                                        4   \n",
       "3                                        4   \n",
       "4                                        4   \n",
       "\n",
       "   No of float Attributes in input Stream  \\\n",
       "0                                       7   \n",
       "1                                       7   \n",
       "2                                       7   \n",
       "3                                       7   \n",
       "4                                       7   \n",
       "\n",
       "   No of double Attributes in input Stream  \\\n",
       "0                                        2   \n",
       "1                                        2   \n",
       "2                                        2   \n",
       "3                                        2   \n",
       "4                                        2   \n",
       "\n",
       "   No of int Attributes in input Stream  \\\n",
       "0                                     1   \n",
       "1                                     1   \n",
       "2                                     1   \n",
       "3                                     1   \n",
       "4                                     1   \n",
       "\n",
       "   No of long Attributes in input Stream  ExternalTmeWindowSize(Sec)  \\\n",
       "0                                      2                          30   \n",
       "1                                      2                          30   \n",
       "2                                      2                          30   \n",
       "3                                      2                          30   \n",
       "4                                      2                          30   \n",
       "\n",
       "   ExternalTimeBatch  ...  Aggregation function  In built functions  \\\n",
       "0                  0  ...                     3                   3   \n",
       "1                  0  ...                     3                   3   \n",
       "2                  0  ...                     3                   3   \n",
       "3                  0  ...                     3                   3   \n",
       "4                  0  ...                     3                   3   \n",
       "\n",
       "   No of Select Operations  No of Insert Operators  No of From operators  \\\n",
       "0                        4                       4                     4   \n",
       "1                        4                       4                     4   \n",
       "2                        4                       4                     4   \n",
       "3                        4                       4                     4   \n",
       "4                        4                       4                     4   \n",
       "\n",
       "   Inner Streams  No of string extensions  No of email processor extensions  \\\n",
       "0              2                        0                                 0   \n",
       "1              2                        0                                 0   \n",
       "2              2                        0                                 0   \n",
       "3              2                        0                                 0   \n",
       "4              2                        0                                 0   \n",
       "\n",
       "   No of filter conditions  Throughput  \n",
       "0                        1  209.105079  \n",
       "1                        1  403.098494  \n",
       "2                        1  515.373114  \n",
       "3                        1  717.240405  \n",
       "4                        1  245.984533  \n",
       "\n",
       "[5 rows x 22 columns]"
      ]
     },
     "execution_count": 3,
     "metadata": {},
     "output_type": "execute_result"
    }
   ],
   "source": [
    "df.head()"
   ]
  },
  {
   "cell_type": "code",
   "execution_count": 4,
   "metadata": {},
   "outputs": [
    {
     "name": "stdout",
     "output_type": "stream",
     "text": [
      "LogProcessor 3\n",
      "Mean: 424.516716065\n",
      "Variance: 55858.65627033654\n"
     ]
    }
   ],
   "source": [
    "print('LogProcessor 3')\n",
    "print('Mean:',df['Throughput'].mean())\n",
    "print('Variance:',df['Throughput'].var())"
   ]
  },
  {
   "cell_type": "code",
   "execution_count": 5,
   "metadata": {},
   "outputs": [
    {
     "data": {
      "text/plain": [
       "<matplotlib.axes._subplots.AxesSubplot at 0x7f87e783f4e0>"
      ]
     },
     "execution_count": 5,
     "metadata": {},
     "output_type": "execute_result"
    },
    {
     "data": {
      "image/png": "[encoded data removed]",
      "text/plain": [
       "<Figure size 432x288 with 1 Axes>"
      ]
     },
     "metadata": {
      "needs_background": "light"
     },
     "output_type": "display_data"
    }
   ],
   "source": [
    "df['Throughput'].hist()"
   ]
  },
  {
   "cell_type": "code",
   "execution_count": 6,
   "metadata": {
    "collapsed": true
   },
   "outputs": [],
   "source": [
    "correlations = df.corr()"
   ]
  },
  {
   "cell_type": "code",
   "execution_count": 7,
   "metadata": {},
   "outputs": [
    {
     "data": {
      "text/plain": [
       "Text(0.5, 1.0, 'Logprocessor3 Variable Correlations')"
      ]
     },
     "execution_count": 7,
     "metadata": {},
     "output_type": "execute_result"
    },
    {
     "data": {
      "image/png": "[encoded data removed]",
      "text/plain": [
       "<Figure size 432x288 with 2 Axes>"
      ]
     },
     "metadata": {
      "needs_background": "light"
     },
     "output_type": "display_data"
    }
   ],
   "source": [
    "# plot logprocessor\n",
    "corr_heat = sns.heatmap(correlations)\n",
    "plt.title('Logprocessor3 Variable Correlations')"
   ]
  },
  {
   "cell_type": "code",
   "execution_count": 8,
   "metadata": {},
   "outputs": [
    {
     "data": {
      "text/plain": [
       "<matplotlib.axes._subplots.AxesSubplot at 0x7f87e7434ac8>"
      ]
     },
     "execution_count": 8,
     "metadata": {},
     "output_type": "execute_result"
    },
    {
     "data": {
      "image/png": "[encoded data removed]",
      "text/plain": [
       "<Figure size 432x288 with 1 Axes>"
      ]
     },
     "metadata": {
      "needs_background": "light"
     },
     "output_type": "display_data"
    }
   ],
   "source": [
    "# San Juan\n",
    "(correlations\n",
    "     .Throughput\n",
    "     .drop('Throughput') # don't compare with myself\n",
    "     .sort_values(ascending=False)\n",
    "     .plot\n",
    "     .barh())"
   ]
  },
  {
   "cell_type": "code",
   "execution_count": 9,
   "metadata": {
    "collapsed": true
   },
   "outputs": [],
   "source": [
    "def preprocess_data(data_path, labels_path=None):\n",
    "    df = pd.read_csv(data_path)\n",
    "    \n",
    "    # select features we want\n",
    "    features = ['Number_of_Workers',\n",
    "                'Number_of_partial_siddhi_apps',\n",
    "                'Integer operators',\n",
    "                'Aggregation function'\n",
    "               ]\n",
    "    df = df[features]\n",
    "# fill missing values\n",
    "    df.fillna(method='ffill', inplace=True)\n",
    "\n",
    "    # add labels to dataframe\n",
    "    if labels_path:\n",
    "        labels = pd.read_csv(labels_path)\n",
    "        return df,labels\n",
    "        #df = df.join(labels)\n",
    "    \n",
    "    return df,labels"
   ]
  },
  {
   "cell_type": "code",
   "execution_count": 10,
   "metadata": {
    "collapsed": true
   },
   "outputs": [],
   "source": [
    "df,labels = preprocess_data('./feature_set_normalized.csv','./labels.csv')"
   ]
  },
  {
   "cell_type": "code",
   "execution_count": 11,
   "metadata": {
    "collapsed": true
   },
   "outputs": [],
   "source": [
    "X_train, X_test, y_train, y_test = train_test_split(df, labels, test_size=0.2, random_state=123)"
   ]
  },
  {
   "cell_type": "code",
   "execution_count": 12,
   "metadata": {},
   "outputs": [],
   "source": [
    "# Labels are the values we want to predict\n",
    "labels = np.array(labels)"
   ]
  },
  {
   "cell_type": "code",
   "execution_count": 13,
   "metadata": {
    "collapsed": true
   },
   "outputs": [],
   "source": [
    "features = np.array(df)"
   ]
  },
  {
   "cell_type": "code",
   "execution_count": 14,
   "metadata": {
    "collapsed": true
   },
   "outputs": [],
   "source": [
    "# Split the data into training and testing sets\n",
    "train_features, test_features, train_labels, test_labels = train_test_split(features, labels, test_size = 0.2, random_state = 42)"
   ]
  },
  {
   "cell_type": "code",
   "execution_count": 15,
   "metadata": {},
   "outputs": [
    {
     "name": "stdout",
     "output_type": "stream",
     "text": [
      "Training Features Shape: (19, 4)\n",
      "Training Labels Shape: (19, 1)\n",
      "Testing Features Shape: (5, 4)\n",
      "Testing Labels Shape: (5, 1)\n"
     ]
    }
   ],
   "source": [
    "print('Training Features Shape:', train_features.shape)\n",
    "print('Training Labels Shape:', train_labels.shape)\n",
    "print('Testing Features Shape:', test_features.shape)\n",
    "print('Testing Labels Shape:', test_labels.shape)"
   ]
  },
  {
   "cell_type": "code",
   "execution_count": 16,
   "metadata": {
    "collapsed": true
   },
   "outputs": [],
   "source": [
    "# Instantiate model with 1000 decision trees\n",
    "rf = RandomForestRegressor(n_estimators=1000, max_depth=5,random_state=40)\n",
    "# Train the model on training data\n",
    "rf.fit(train_features, train_labels);"
   ]
  },
  {
   "cell_type": "code",
   "execution_count": 17,
   "metadata": {
    "collapsed": true
   },
   "outputs": [],
   "source": [
    "predictions_random_forest = rf.predict(test_features)"
   ]
  },
  {
   "cell_type": "code",
   "execution_count": 18,
   "metadata": {},
   "outputs": [
    {
     "name": "stdout",
     "output_type": "stream",
     "text": [
      "root_mean_squared_error_random_forest: 118.270336\n"
     ]
    }
   ],
   "source": [
    "root_mean_squared_error_random_forest = mean_squared_error(test_labels, predictions_random_forest)**0.5\n",
    "print(\"root_mean_squared_error_random_forest: %f\" % (root_mean_squared_error_random_forest))"
   ]
  },
  {
   "cell_type": "code",
   "execution_count": 19,
   "metadata": {
    "collapsed": true
   },
   "outputs": [],
   "source": [
    "regressor = xgb.XGBRegressor(objective ='reg:linear', colsample_bytree = 1, learning_rate = 0.4, max_depth = 5, alpha = 10, n_estimators = 1000)\n",
    "regressor.fit(X_train, y_train)\n",
    "\n",
    "predictions_XGBoost = regressor.predict(X_test)"
   ]
  },
  {
   "cell_type": "code",
   "execution_count": 20,
   "metadata": {},
   "outputs": [
    {
     "data": {
      "text/plain": [
       "array([[739.122153],\n",
       "       [376.453025],\n",
       "       [209.105079],\n",
       "       [135.298582],\n",
       "       [680.369361]])"
      ]
     },
     "execution_count": 20,
     "metadata": {},
     "output_type": "execute_result"
    }
   ],
   "source": [
    "test_labels"
   ]
  },
  {
   "cell_type": "code",
   "execution_count": 21,
   "metadata": {},
   "outputs": [
    {
     "name": "stdout",
     "output_type": "stream",
     "text": [
      "root_mean_squared_error_XGBoost: 107.585907\n"
     ]
    }
   ],
   "source": [
    "root_mean_squared_error_XGBoost = mean_squared_error(test_labels, predictions_XGBoost)**0.5\n",
    "print(\"root_mean_squared_error_XGBoost: %f\" % (root_mean_squared_error_XGBoost))"
   ]
  },
  {
   "cell_type": "code",
   "execution_count": 22,
   "metadata": {},
   "outputs": [
    {
     "name": "stdout",
     "output_type": "stream",
     "text": [
      "Make predictions on the test set\n"
     ]
    }
   ],
   "source": [
    "print(\"Make predictions on the test set\")\n",
    "test_probs = (predictions_random_forest + predictions_XGBoost)/2"
   ]
  },
  {
   "cell_type": "code",
   "execution_count": 23,
   "metadata": {},
   "outputs": [
    {
     "name": "stdout",
     "output_type": "stream",
     "text": [
      "root_mean_squared_error: 65.750859\n"
     ]
    }
   ],
   "source": [
    "root_mean_squared_error = mean_squared_error(test_labels, test_probs)**0.5\n",
    "print(\"root_mean_squared_error: %f\" % (root_mean_squared_error))"
   ]
  },
  {
   "cell_type": "code",
   "execution_count": 29,
   "metadata": {},
   "outputs": [
    {
     "name": "stdout",
     "output_type": "stream",
     "text": [
      "Calculated percentage rmse = 11.93 %\n"
     ]
    }
   ],
   "source": [
    "def percentage_error(y_true, y_pred):\n",
    "    return (np.abs((y_true.mean() - y_pred.mean()) / y_true.mean())) * 100\n",
    "\n",
    "print(\"Calculated percentage rmse =\",\"%.2f\"%(percentage_error(test_labels, test_probs)),\"%\")"
   ]
  },
  {
   "cell_type": "code",
   "execution_count": 25,
   "metadata": {},
   "outputs": [
    {
     "name": "stdout",
     "output_type": "stream",
     "text": [
      "Accuracy = 88.07 %\n"
     ]
    }
   ],
   "source": [
    "print(\"Accuracy =\",\"%.2f\"% (100-percentage_error(test_labels, test_probs)),\"%\")"
   ]
  }
 ],
 "metadata": {
  "kernelspec": {
   "display_name": "DengiAI",
   "language": "python",
   "name": "dengai"
  },
  "language_info": {
   "codemirror_mode": {
    "name": "ipython",
    "version": 3
   },
   "file_extension": ".py",
   "mimetype": "text/x-python",
   "name": "python",
   "nbconvert_exporter": "python",
   "pygments_lexer": "ipython3",
   "version": "3.7.3"
  }
 },
 "nbformat": 4,
 "nbformat_minor": 2
}
